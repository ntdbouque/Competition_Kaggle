{
 "cells": [
  {
   "cell_type": "code",
   "execution_count": 1,
   "metadata": {},
   "outputs": [],
   "source": [
    "import numpy as np\n"
   ]
  },
  {
   "cell_type": "code",
   "execution_count": 4,
   "metadata": {},
   "outputs": [
    {
     "name": "stdout",
     "output_type": "stream",
     "text": [
      "[[0.64608077 0.17818945 0.40642283]\n",
      " [0.09171334 0.15750096 0.86464759]\n",
      " [0.81548351 0.02300296 0.36554124]]\n"
     ]
    }
   ],
   "source": [
    "layers = [2,2,1]\n",
    "for i in np.arange(0, len(layers) - 2):\n",
    "    w = np.random.rand(layers[i] + 1, layers[i+1] + 1)\n",
    "    print(w)"
   ]
  },
  {
   "cell_type": "code",
   "execution_count": 35,
   "metadata": {},
   "outputs": [
    {
     "name": "stdout",
     "output_type": "stream",
     "text": [
      "[array([[-0.23100238,  0.08068682, -0.77911371],\n",
      "       [-0.39935376, -0.32448822, -0.24332883],\n",
      "       [-0.36884501, -0.36223824,  2.05996274]]), array([[-1.73430048],\n",
      "       [-1.19177133],\n",
      "       [-0.80823226]])]\n",
      "(3, 3)\n",
      "(3, 1)\n"
     ]
    }
   ],
   "source": [
    "class NeuralNetwork:\n",
    "    def __init__(self, layers, alpha=0.1):\n",
    "            # Khởi tạo ma trận trọng số và lưu kiến trúc mạng cũng như learning rate\n",
    "            self.W = []\n",
    "            self.layers = layers\n",
    "            self.alpha = alpha\n",
    "\n",
    "            for i in np.arange(0, len(layers) - 2):\n",
    "                # initial weight and bias \n",
    "                w = np.random.randn(layers[i] + 1, layers[i+1] + 1)\n",
    "                self.W.append(w / np.sqrt(layers[i]))\n",
    "\n",
    "            w = np.random.randn(layers[-2] + 1, layers[-1])\n",
    "            self.W.append(w / np.sqrt(layers[-2]))\n",
    "            print(self.W)\n",
    "            for w in self.W:\n",
    "                print(w.shape)\n",
    "nn = NeuralNetwork((2,2,1))"
   ]
  },
  {
   "cell_type": "code",
   "execution_count": 21,
   "metadata": {},
   "outputs": [],
   "source": [
    "X = np.array([[0,0], \n",
    "              [0,1], \n",
    "              [1,0], \n",
    "              [1,1]])\n",
    "p = np.atleast_2d(X)\n",
    "#p = np.c_[p, np.ones((p.shape[0]))]\n",
    "#p"
   ]
  },
  {
   "cell_type": "code",
   "execution_count": 22,
   "metadata": {},
   "outputs": [
    {
     "data": {
      "text/plain": [
       "array([[0, 0],\n",
       "       [0, 1],\n",
       "       [1, 0],\n",
       "       [1, 1]])"
      ]
     },
     "execution_count": 22,
     "metadata": {},
     "output_type": "execute_result"
    }
   ],
   "source": [
    "p"
   ]
  },
  {
   "cell_type": "code",
   "execution_count": null,
   "metadata": {},
   "outputs": [],
   "source": []
  }
 ],
 "metadata": {
  "kernelspec": {
   "display_name": "ai",
   "language": "python",
   "name": "python3"
  },
  "language_info": {
   "codemirror_mode": {
    "name": "ipython",
    "version": 3
   },
   "file_extension": ".py",
   "mimetype": "text/x-python",
   "name": "python",
   "nbconvert_exporter": "python",
   "pygments_lexer": "ipython3",
   "version": "3.7.0"
  }
 },
 "nbformat": 4,
 "nbformat_minor": 2
}
